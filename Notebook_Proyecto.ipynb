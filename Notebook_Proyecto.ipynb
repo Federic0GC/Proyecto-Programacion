{
 "cells": [
  {
   "attachments": {},
   "cell_type": "markdown",
   "metadata": {},
   "source": [
    "# Proyecto-Programacion\n",
    "* Trello \"https://trello.com/b/SxCLEEmj/programming-project\"\n",
    "* Notebook \"https://colab.research.google.com/drive/1sgDptS1KpuozhLffzlrhDFz4HNI9AkFF?usp=sharing\"\n",
    "\n",
    "* Nota: El Notebook de Colab es equivalente al de Github. Contendran exactamente la misma información. Solo que este es la versión formal del proyecto para su desarrollo\n",
    "---\n",
    "### En el repositorio encontraras lo siguiente:\n",
    "\n",
    "* Datos principales del negocio o MiPyme (Descripción del contexto) y el contexto en el que estos datos han sido recolectados\n",
    "* Manejo de la analitica descriptiva en el proyecto\n",
    "* Identificacion de problematica\n",
    "* Motivo y uso de esta recoleccion de datos\n",
    "* Antecedentes y objetivos\n",
    "* Identificacion de problemas y antecedentes\n",
    "* Proceso de recoleccion de datos\n",
    "---\n",
    "### Integrantes del proyecto: \n",
    "* Juana Valentina Garzón Romero\n",
    "* Melisa Caldas Escobar\n",
    "* Federico Gonzales Cárdenas\n",
    "* Manuel Alejandro Gruezo Arias\n",
    "* David Alejandro Cajiao Lazt\n"
   ]
  },
  {
   "cell_type": "code",
   "execution_count": 2,
   "metadata": {},
   "outputs": [
    {
     "name": "stdout",
     "output_type": "stream",
     "text": [
      "Hello World\n"
     ]
    }
   ],
   "source": [
    "print(\"Hello World\")"
   ]
  }
 ],
 "metadata": {
  "kernelspec": {
   "display_name": "Python 3",
   "language": "python",
   "name": "python3"
  },
  "language_info": {
   "codemirror_mode": {
    "name": "ipython",
    "version": 3
   },
   "file_extension": ".py",
   "mimetype": "text/x-python",
   "name": "python",
   "nbconvert_exporter": "python",
   "pygments_lexer": "ipython3",
   "version": "3.10.4"
  },
  "orig_nbformat": 4
 },
 "nbformat": 4,
 "nbformat_minor": 2
}
